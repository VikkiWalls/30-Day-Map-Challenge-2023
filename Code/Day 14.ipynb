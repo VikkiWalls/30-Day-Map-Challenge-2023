{
 "cells": [
  {
   "cell_type": "markdown",
   "metadata": {},
   "source": [
    "# 30 Day Map Challenge"
   ]
  },
  {
   "cell_type": "markdown",
   "metadata": {},
   "source": [
    "## Day 14 - Europe"
   ]
  },
  {
   "cell_type": "markdown",
   "metadata": {},
   "source": [
    "Plan: Artistically plot some of the 'best' places in Norway to see the Northern Lights"
   ]
  },
  {
   "cell_type": "markdown",
   "metadata": {},
   "source": [
    "Setting up the notebook"
   ]
  },
  {
   "cell_type": "code",
   "execution_count": 1,
   "metadata": {},
   "outputs": [],
   "source": [
    "import os\n",
    "import pandas as pd\n",
    "import plotly.graph_objects as go\n",
    "import plotly.express as px\n",
    "\n",
    "%matplotlib inline\n",
    "px.defaults.width = 1300\n",
    "px.defaults.height = 800"
   ]
  },
  {
   "cell_type": "markdown",
   "metadata": {},
   "source": [
    "Setting the working directory"
   ]
  },
  {
   "cell_type": "code",
   "execution_count": 2,
   "metadata": {},
   "outputs": [],
   "source": [
    "os.getcwd()\n",
    "os.chdir(\"c:\\\\Users\\\\vicks\\\\OneDrive\\\\Data Science (not uni)\\\\Portfolio\\\\30 Day Map Challenge\\\\2023 data\\\\Day 14\")"
   ]
  },
  {
   "cell_type": "markdown",
   "metadata": {},
   "source": [
    "Importing the [data](https://spacetourismguide.com/northern-lights-norway/)"
   ]
  },
  {
   "cell_type": "code",
   "execution_count": 3,
   "metadata": {},
   "outputs": [
    {
     "data": {
      "text/html": [
       "<div>\n",
       "<style scoped>\n",
       "    .dataframe tbody tr th:only-of-type {\n",
       "        vertical-align: middle;\n",
       "    }\n",
       "\n",
       "    .dataframe tbody tr th {\n",
       "        vertical-align: top;\n",
       "    }\n",
       "\n",
       "    .dataframe thead th {\n",
       "        text-align: right;\n",
       "    }\n",
       "</style>\n",
       "<table border=\"1\" class=\"dataframe\">\n",
       "  <thead>\n",
       "    <tr style=\"text-align: right;\">\n",
       "      <th></th>\n",
       "      <th>Lat</th>\n",
       "      <th>Long</th>\n",
       "    </tr>\n",
       "  </thead>\n",
       "  <tbody>\n",
       "    <tr>\n",
       "      <th>0</th>\n",
       "      <td>77.55360</td>\n",
       "      <td>23.67027</td>\n",
       "    </tr>\n",
       "    <tr>\n",
       "      <th>1</th>\n",
       "      <td>67.28035</td>\n",
       "      <td>14.40491</td>\n",
       "    </tr>\n",
       "    <tr>\n",
       "      <th>2</th>\n",
       "      <td>69.64920</td>\n",
       "      <td>18.95532</td>\n",
       "    </tr>\n",
       "    <tr>\n",
       "      <th>3</th>\n",
       "      <td>63.43051</td>\n",
       "      <td>10.39505</td>\n",
       "    </tr>\n",
       "    <tr>\n",
       "      <th>4</th>\n",
       "      <td>69.74553</td>\n",
       "      <td>20.49041</td>\n",
       "    </tr>\n",
       "  </tbody>\n",
       "</table>\n",
       "</div>"
      ],
      "text/plain": [
       "        Lat      Long\n",
       "0  77.55360  23.67027\n",
       "1  67.28035  14.40491\n",
       "2  69.64920  18.95532\n",
       "3  63.43051  10.39505\n",
       "4  69.74553  20.49041"
      ]
     },
     "execution_count": 3,
     "metadata": {},
     "output_type": "execute_result"
    }
   ],
   "source": [
    "Lights = pd.read_csv(\"Lights.csv\")\n",
    "Lights.head()"
   ]
  },
  {
   "cell_type": "markdown",
   "metadata": {},
   "source": [
    "Impoering my mapbox token"
   ]
  },
  {
   "cell_type": "code",
   "execution_count": 4,
   "metadata": {},
   "outputs": [],
   "source": [
    "px.set_mapbox_access_token(open('mapboxtoken.txt').read())"
   ]
  },
  {
   "cell_type": "markdown",
   "metadata": {},
   "source": [
    "Plotting the map using my custom mapbox style"
   ]
  },
  {
   "cell_type": "code",
   "execution_count": 8,
   "metadata": {},
   "outputs": [
    {
     "data": {
      "application/vnd.plotly.v1+json": {
       "config": {
        "plotlyServerURL": "https://plot.ly"
       },
       "data": [
        {
         "hovertemplate": "Lat=%{lat}<br>Long=%{lon}<extra></extra>",
         "lat": [
          77.5536,
          67.28035,
          69.6492,
          63.43051,
          69.74553,
          69.29647,
          68.69583,
          68.2086,
          71.16949,
          69.96873,
          68.69583,
          70.41666,
          65.75805,
          65.75805
         ],
         "legendgroup": "",
         "lon": [
          23.67027,
          14.40491,
          18.95532,
          10.39505,
          20.49041,
          17.64589,
          15.41305,
          13.91573,
          25.78316,
          23.27154,
          15.41305,
          29.5,
          12.10397,
          12.10397
         ],
         "marker": {
          "color": "#636efa"
         },
         "mode": "markers",
         "name": "",
         "showlegend": false,
         "subplot": "mapbox",
         "type": "scattermapbox"
        },
        {
         "lat": [
          77.5536,
          67.28035,
          69.6492,
          63.43051,
          69.74553,
          69.29647,
          68.69583,
          68.2086,
          71.16949,
          69.96873,
          68.69583,
          70.41666,
          65.75805,
          65.75805
         ],
         "lon": [
          23.67027,
          14.40491,
          18.95532,
          10.39505,
          20.49041,
          17.64589,
          15.41305,
          13.91573,
          25.78316,
          23.27154,
          15.41305,
          29.5,
          12.10397,
          12.10397
         ],
         "marker": {
          "color": "#280045",
          "size": 48
         },
         "name": "Lights",
         "type": "scattermapbox"
        },
        {
         "lat": [
          77.5536,
          67.28035,
          69.6492,
          63.43051,
          69.74553,
          69.29647,
          68.69583,
          68.2086,
          71.16949,
          69.96873,
          68.69583,
          70.41666,
          65.75805,
          65.75805
         ],
         "lon": [
          23.67027,
          14.40491,
          18.95532,
          10.39505,
          20.49041,
          17.64589,
          15.41305,
          13.91573,
          25.78316,
          23.27154,
          15.41305,
          29.5,
          12.10397,
          12.10397
         ],
         "marker": {
          "color": "#142E13",
          "size": 44
         },
         "name": "Lights",
         "type": "scattermapbox"
        },
        {
         "lat": [
          77.5536,
          67.28035,
          69.6492,
          63.43051,
          69.74553,
          69.29647,
          68.69583,
          68.2086,
          71.16949,
          69.96873,
          68.69583,
          70.41666,
          65.75805,
          65.75805
         ],
         "lon": [
          23.67027,
          14.40491,
          18.95532,
          10.39505,
          20.49041,
          17.64589,
          15.41305,
          13.91573,
          25.78316,
          23.27154,
          15.41305,
          29.5,
          12.10397,
          12.10397
         ],
         "marker": {
          "color": "#16350F",
          "size": 40
         },
         "name": "Lights",
         "type": "scattermapbox"
        },
        {
         "lat": [
          77.5536,
          67.28035,
          69.6492,
          63.43051,
          69.74553,
          69.29647,
          68.69583,
          68.2086,
          71.16949,
          69.96873,
          68.69583,
          70.41666,
          65.75805,
          65.75805
         ],
         "lon": [
          23.67027,
          14.40491,
          18.95532,
          10.39505,
          20.49041,
          17.64589,
          15.41305,
          13.91573,
          25.78316,
          23.27154,
          15.41305,
          29.5,
          12.10397,
          12.10397
         ],
         "marker": {
          "color": "#245F26",
          "size": 36
         },
         "name": "Lights",
         "type": "scattermapbox"
        },
        {
         "lat": [
          77.5536,
          67.28035,
          69.6492,
          63.43051,
          69.74553,
          69.29647,
          68.69583,
          68.2086,
          71.16949,
          69.96873,
          68.69583,
          70.41666,
          65.75805,
          65.75805
         ],
         "lon": [
          23.67027,
          14.40491,
          18.95532,
          10.39505,
          20.49041,
          17.64589,
          15.41305,
          13.91573,
          25.78316,
          23.27154,
          15.41305,
          29.5,
          12.10397,
          12.10397
         ],
         "marker": {
          "color": "#122616",
          "size": 32
         },
         "name": "Lights",
         "type": "scattermapbox"
        },
        {
         "lat": [
          77.5536,
          67.28035,
          69.6492,
          63.43051,
          69.74553,
          69.29647,
          68.69583,
          68.2086,
          71.16949,
          69.96873,
          68.69583,
          70.41666,
          65.75805,
          65.75805
         ],
         "lon": [
          23.67027,
          14.40491,
          18.95532,
          10.39505,
          20.49041,
          17.64589,
          15.41305,
          13.91573,
          25.78316,
          23.27154,
          15.41305,
          29.5,
          12.10397,
          12.10397
         ],
         "marker": {
          "color": "#1C3823",
          "size": 28
         },
         "name": "Lights",
         "type": "scattermapbox"
        },
        {
         "lat": [
          77.5536,
          67.28035,
          69.6492,
          63.43051,
          69.74553,
          69.29647,
          68.69583,
          68.2086,
          71.16949,
          69.96873,
          68.69583,
          70.41666,
          65.75805,
          65.75805
         ],
         "lon": [
          23.67027,
          14.40491,
          18.95532,
          10.39505,
          20.49041,
          17.64589,
          15.41305,
          13.91573,
          25.78316,
          23.27154,
          15.41305,
          29.5,
          12.10397,
          12.10397
         ],
         "marker": {
          "color": "#1A3C1B",
          "size": 24
         },
         "name": "Lights",
         "type": "scattermapbox"
        },
        {
         "lat": [
          77.5536,
          67.28035,
          69.6492,
          63.43051,
          69.74553,
          69.29647,
          68.69583,
          68.2086,
          71.16949,
          69.96873,
          68.69583,
          70.41666,
          65.75805,
          65.75805
         ],
         "lon": [
          23.67027,
          14.40491,
          18.95532,
          10.39505,
          20.49041,
          17.64589,
          15.41305,
          13.91573,
          25.78316,
          23.27154,
          15.41305,
          29.5,
          12.10397,
          12.10397
         ],
         "marker": {
          "color": "#234A2B",
          "size": 20
         },
         "name": "Lights",
         "type": "scattermapbox"
        },
        {
         "lat": [
          77.5536,
          67.28035,
          69.6492,
          63.43051,
          69.74553,
          69.29647,
          68.69583,
          68.2086,
          71.16949,
          69.96873,
          68.69583,
          70.41666,
          65.75805,
          65.75805
         ],
         "lon": [
          23.67027,
          14.40491,
          18.95532,
          10.39505,
          20.49041,
          17.64589,
          15.41305,
          13.91573,
          25.78316,
          23.27154,
          15.41305,
          29.5,
          12.10397,
          12.10397
         ],
         "marker": {
          "color": "#4F9F56",
          "size": 16
         },
         "name": "Lights",
         "type": "scattermapbox"
        },
        {
         "lat": [
          77.5536,
          67.28035,
          69.6492,
          63.43051,
          69.74553,
          69.29647,
          68.69583,
          68.2086,
          71.16949,
          69.96873,
          68.69583,
          70.41666,
          65.75805,
          65.75805
         ],
         "lon": [
          23.67027,
          14.40491,
          18.95532,
          10.39505,
          20.49041,
          17.64589,
          15.41305,
          13.91573,
          25.78316,
          23.27154,
          15.41305,
          29.5,
          12.10397,
          12.10397
         ],
         "marker": {
          "color": "#4F9F56",
          "size": 12
         },
         "name": "Lights",
         "type": "scattermapbox"
        },
        {
         "lat": [
          77.5536,
          67.28035,
          69.6492,
          63.43051,
          69.74553,
          69.29647,
          68.69583,
          68.2086,
          71.16949,
          69.96873,
          68.69583,
          70.41666,
          65.75805,
          65.75805
         ],
         "lon": [
          23.67027,
          14.40491,
          18.95532,
          10.39505,
          20.49041,
          17.64589,
          15.41305,
          13.91573,
          25.78316,
          23.27154,
          15.41305,
          29.5,
          12.10397,
          12.10397
         ],
         "marker": {
          "color": "#75E183",
          "size": 8
         },
         "name": "Lights",
         "type": "scattermapbox"
        },
        {
         "lat": [
          77.5536,
          67.28035,
          69.6492,
          63.43051,
          69.74553,
          69.29647,
          68.69583,
          68.2086,
          71.16949,
          69.96873,
          68.69583,
          70.41666,
          65.75805,
          65.75805
         ],
         "lon": [
          23.67027,
          14.40491,
          18.95532,
          10.39505,
          20.49041,
          17.64589,
          15.41305,
          13.91573,
          25.78316,
          23.27154,
          15.41305,
          29.5,
          12.10397,
          12.10397
         ],
         "marker": {
          "color": "#9AECB0",
          "size": 4
         },
         "name": "Lights",
         "type": "scattermapbox"
        }
       ],
       "layout": {
        "height": 800,
        "legend": {
         "font": {
          "color": "#4B9A4A"
         },
         "tracegroupgap": 0
        },
        "mapbox": {
         "accesstoken": "pk.eyJ1IjoiZGF0YXNjaWVuY2Vub3QyIiwiYSI6ImNsYWhlM2YxbTA0ZDczcGxhc3p4ZDM0Nm8ifQ.fSTIJa-K8RElOVSIFLcTBQ",
         "center": {
          "lat": 71,
          "lon": 23
         },
         "domain": {
          "x": [
           0,
           1
          ],
          "y": [
           0,
           1
          ]
         },
         "style": "mapbox://styles/datasciencenot2/clp7jmtny01sp01o429xs64qe",
         "zoom": 3.1
        },
        "margin": {
         "b": 0,
         "l": 0,
         "r": 0,
         "t": 0
        },
        "paper_bgcolor": "#000000",
        "template": {
         "data": {
          "bar": [
           {
            "error_x": {
             "color": "#2a3f5f"
            },
            "error_y": {
             "color": "#2a3f5f"
            },
            "marker": {
             "line": {
              "color": "#E5ECF6",
              "width": 0.5
             },
             "pattern": {
              "fillmode": "overlay",
              "size": 10,
              "solidity": 0.2
             }
            },
            "type": "bar"
           }
          ],
          "barpolar": [
           {
            "marker": {
             "line": {
              "color": "#E5ECF6",
              "width": 0.5
             },
             "pattern": {
              "fillmode": "overlay",
              "size": 10,
              "solidity": 0.2
             }
            },
            "type": "barpolar"
           }
          ],
          "carpet": [
           {
            "aaxis": {
             "endlinecolor": "#2a3f5f",
             "gridcolor": "white",
             "linecolor": "white",
             "minorgridcolor": "white",
             "startlinecolor": "#2a3f5f"
            },
            "baxis": {
             "endlinecolor": "#2a3f5f",
             "gridcolor": "white",
             "linecolor": "white",
             "minorgridcolor": "white",
             "startlinecolor": "#2a3f5f"
            },
            "type": "carpet"
           }
          ],
          "choropleth": [
           {
            "colorbar": {
             "outlinewidth": 0,
             "ticks": ""
            },
            "type": "choropleth"
           }
          ],
          "contour": [
           {
            "colorbar": {
             "outlinewidth": 0,
             "ticks": ""
            },
            "colorscale": [
             [
              0,
              "#0d0887"
             ],
             [
              0.1111111111111111,
              "#46039f"
             ],
             [
              0.2222222222222222,
              "#7201a8"
             ],
             [
              0.3333333333333333,
              "#9c179e"
             ],
             [
              0.4444444444444444,
              "#bd3786"
             ],
             [
              0.5555555555555556,
              "#d8576b"
             ],
             [
              0.6666666666666666,
              "#ed7953"
             ],
             [
              0.7777777777777778,
              "#fb9f3a"
             ],
             [
              0.8888888888888888,
              "#fdca26"
             ],
             [
              1,
              "#f0f921"
             ]
            ],
            "type": "contour"
           }
          ],
          "contourcarpet": [
           {
            "colorbar": {
             "outlinewidth": 0,
             "ticks": ""
            },
            "type": "contourcarpet"
           }
          ],
          "heatmap": [
           {
            "colorbar": {
             "outlinewidth": 0,
             "ticks": ""
            },
            "colorscale": [
             [
              0,
              "#0d0887"
             ],
             [
              0.1111111111111111,
              "#46039f"
             ],
             [
              0.2222222222222222,
              "#7201a8"
             ],
             [
              0.3333333333333333,
              "#9c179e"
             ],
             [
              0.4444444444444444,
              "#bd3786"
             ],
             [
              0.5555555555555556,
              "#d8576b"
             ],
             [
              0.6666666666666666,
              "#ed7953"
             ],
             [
              0.7777777777777778,
              "#fb9f3a"
             ],
             [
              0.8888888888888888,
              "#fdca26"
             ],
             [
              1,
              "#f0f921"
             ]
            ],
            "type": "heatmap"
           }
          ],
          "heatmapgl": [
           {
            "colorbar": {
             "outlinewidth": 0,
             "ticks": ""
            },
            "colorscale": [
             [
              0,
              "#0d0887"
             ],
             [
              0.1111111111111111,
              "#46039f"
             ],
             [
              0.2222222222222222,
              "#7201a8"
             ],
             [
              0.3333333333333333,
              "#9c179e"
             ],
             [
              0.4444444444444444,
              "#bd3786"
             ],
             [
              0.5555555555555556,
              "#d8576b"
             ],
             [
              0.6666666666666666,
              "#ed7953"
             ],
             [
              0.7777777777777778,
              "#fb9f3a"
             ],
             [
              0.8888888888888888,
              "#fdca26"
             ],
             [
              1,
              "#f0f921"
             ]
            ],
            "type": "heatmapgl"
           }
          ],
          "histogram": [
           {
            "marker": {
             "pattern": {
              "fillmode": "overlay",
              "size": 10,
              "solidity": 0.2
             }
            },
            "type": "histogram"
           }
          ],
          "histogram2d": [
           {
            "colorbar": {
             "outlinewidth": 0,
             "ticks": ""
            },
            "colorscale": [
             [
              0,
              "#0d0887"
             ],
             [
              0.1111111111111111,
              "#46039f"
             ],
             [
              0.2222222222222222,
              "#7201a8"
             ],
             [
              0.3333333333333333,
              "#9c179e"
             ],
             [
              0.4444444444444444,
              "#bd3786"
             ],
             [
              0.5555555555555556,
              "#d8576b"
             ],
             [
              0.6666666666666666,
              "#ed7953"
             ],
             [
              0.7777777777777778,
              "#fb9f3a"
             ],
             [
              0.8888888888888888,
              "#fdca26"
             ],
             [
              1,
              "#f0f921"
             ]
            ],
            "type": "histogram2d"
           }
          ],
          "histogram2dcontour": [
           {
            "colorbar": {
             "outlinewidth": 0,
             "ticks": ""
            },
            "colorscale": [
             [
              0,
              "#0d0887"
             ],
             [
              0.1111111111111111,
              "#46039f"
             ],
             [
              0.2222222222222222,
              "#7201a8"
             ],
             [
              0.3333333333333333,
              "#9c179e"
             ],
             [
              0.4444444444444444,
              "#bd3786"
             ],
             [
              0.5555555555555556,
              "#d8576b"
             ],
             [
              0.6666666666666666,
              "#ed7953"
             ],
             [
              0.7777777777777778,
              "#fb9f3a"
             ],
             [
              0.8888888888888888,
              "#fdca26"
             ],
             [
              1,
              "#f0f921"
             ]
            ],
            "type": "histogram2dcontour"
           }
          ],
          "mesh3d": [
           {
            "colorbar": {
             "outlinewidth": 0,
             "ticks": ""
            },
            "type": "mesh3d"
           }
          ],
          "parcoords": [
           {
            "line": {
             "colorbar": {
              "outlinewidth": 0,
              "ticks": ""
             }
            },
            "type": "parcoords"
           }
          ],
          "pie": [
           {
            "automargin": true,
            "type": "pie"
           }
          ],
          "scatter": [
           {
            "fillpattern": {
             "fillmode": "overlay",
             "size": 10,
             "solidity": 0.2
            },
            "type": "scatter"
           }
          ],
          "scatter3d": [
           {
            "line": {
             "colorbar": {
              "outlinewidth": 0,
              "ticks": ""
             }
            },
            "marker": {
             "colorbar": {
              "outlinewidth": 0,
              "ticks": ""
             }
            },
            "type": "scatter3d"
           }
          ],
          "scattercarpet": [
           {
            "marker": {
             "colorbar": {
              "outlinewidth": 0,
              "ticks": ""
             }
            },
            "type": "scattercarpet"
           }
          ],
          "scattergeo": [
           {
            "marker": {
             "colorbar": {
              "outlinewidth": 0,
              "ticks": ""
             }
            },
            "type": "scattergeo"
           }
          ],
          "scattergl": [
           {
            "marker": {
             "colorbar": {
              "outlinewidth": 0,
              "ticks": ""
             }
            },
            "type": "scattergl"
           }
          ],
          "scattermapbox": [
           {
            "marker": {
             "colorbar": {
              "outlinewidth": 0,
              "ticks": ""
             }
            },
            "type": "scattermapbox"
           }
          ],
          "scatterpolar": [
           {
            "marker": {
             "colorbar": {
              "outlinewidth": 0,
              "ticks": ""
             }
            },
            "type": "scatterpolar"
           }
          ],
          "scatterpolargl": [
           {
            "marker": {
             "colorbar": {
              "outlinewidth": 0,
              "ticks": ""
             }
            },
            "type": "scatterpolargl"
           }
          ],
          "scatterternary": [
           {
            "marker": {
             "colorbar": {
              "outlinewidth": 0,
              "ticks": ""
             }
            },
            "type": "scatterternary"
           }
          ],
          "surface": [
           {
            "colorbar": {
             "outlinewidth": 0,
             "ticks": ""
            },
            "colorscale": [
             [
              0,
              "#0d0887"
             ],
             [
              0.1111111111111111,
              "#46039f"
             ],
             [
              0.2222222222222222,
              "#7201a8"
             ],
             [
              0.3333333333333333,
              "#9c179e"
             ],
             [
              0.4444444444444444,
              "#bd3786"
             ],
             [
              0.5555555555555556,
              "#d8576b"
             ],
             [
              0.6666666666666666,
              "#ed7953"
             ],
             [
              0.7777777777777778,
              "#fb9f3a"
             ],
             [
              0.8888888888888888,
              "#fdca26"
             ],
             [
              1,
              "#f0f921"
             ]
            ],
            "type": "surface"
           }
          ],
          "table": [
           {
            "cells": {
             "fill": {
              "color": "#EBF0F8"
             },
             "line": {
              "color": "white"
             }
            },
            "header": {
             "fill": {
              "color": "#C8D4E3"
             },
             "line": {
              "color": "white"
             }
            },
            "type": "table"
           }
          ]
         },
         "layout": {
          "annotationdefaults": {
           "arrowcolor": "#2a3f5f",
           "arrowhead": 0,
           "arrowwidth": 1
          },
          "autotypenumbers": "strict",
          "coloraxis": {
           "colorbar": {
            "outlinewidth": 0,
            "ticks": ""
           }
          },
          "colorscale": {
           "diverging": [
            [
             0,
             "#8e0152"
            ],
            [
             0.1,
             "#c51b7d"
            ],
            [
             0.2,
             "#de77ae"
            ],
            [
             0.3,
             "#f1b6da"
            ],
            [
             0.4,
             "#fde0ef"
            ],
            [
             0.5,
             "#f7f7f7"
            ],
            [
             0.6,
             "#e6f5d0"
            ],
            [
             0.7,
             "#b8e186"
            ],
            [
             0.8,
             "#7fbc41"
            ],
            [
             0.9,
             "#4d9221"
            ],
            [
             1,
             "#276419"
            ]
           ],
           "sequential": [
            [
             0,
             "#0d0887"
            ],
            [
             0.1111111111111111,
             "#46039f"
            ],
            [
             0.2222222222222222,
             "#7201a8"
            ],
            [
             0.3333333333333333,
             "#9c179e"
            ],
            [
             0.4444444444444444,
             "#bd3786"
            ],
            [
             0.5555555555555556,
             "#d8576b"
            ],
            [
             0.6666666666666666,
             "#ed7953"
            ],
            [
             0.7777777777777778,
             "#fb9f3a"
            ],
            [
             0.8888888888888888,
             "#fdca26"
            ],
            [
             1,
             "#f0f921"
            ]
           ],
           "sequentialminus": [
            [
             0,
             "#0d0887"
            ],
            [
             0.1111111111111111,
             "#46039f"
            ],
            [
             0.2222222222222222,
             "#7201a8"
            ],
            [
             0.3333333333333333,
             "#9c179e"
            ],
            [
             0.4444444444444444,
             "#bd3786"
            ],
            [
             0.5555555555555556,
             "#d8576b"
            ],
            [
             0.6666666666666666,
             "#ed7953"
            ],
            [
             0.7777777777777778,
             "#fb9f3a"
            ],
            [
             0.8888888888888888,
             "#fdca26"
            ],
            [
             1,
             "#f0f921"
            ]
           ]
          },
          "colorway": [
           "#636efa",
           "#EF553B",
           "#00cc96",
           "#ab63fa",
           "#FFA15A",
           "#19d3f3",
           "#FF6692",
           "#B6E880",
           "#FF97FF",
           "#FECB52"
          ],
          "font": {
           "color": "#2a3f5f"
          },
          "geo": {
           "bgcolor": "white",
           "lakecolor": "white",
           "landcolor": "#E5ECF6",
           "showlakes": true,
           "showland": true,
           "subunitcolor": "white"
          },
          "hoverlabel": {
           "align": "left"
          },
          "hovermode": "closest",
          "mapbox": {
           "style": "light"
          },
          "paper_bgcolor": "white",
          "plot_bgcolor": "#E5ECF6",
          "polar": {
           "angularaxis": {
            "gridcolor": "white",
            "linecolor": "white",
            "ticks": ""
           },
           "bgcolor": "#E5ECF6",
           "radialaxis": {
            "gridcolor": "white",
            "linecolor": "white",
            "ticks": ""
           }
          },
          "scene": {
           "xaxis": {
            "backgroundcolor": "#E5ECF6",
            "gridcolor": "white",
            "gridwidth": 2,
            "linecolor": "white",
            "showbackground": true,
            "ticks": "",
            "zerolinecolor": "white"
           },
           "yaxis": {
            "backgroundcolor": "#E5ECF6",
            "gridcolor": "white",
            "gridwidth": 2,
            "linecolor": "white",
            "showbackground": true,
            "ticks": "",
            "zerolinecolor": "white"
           },
           "zaxis": {
            "backgroundcolor": "#E5ECF6",
            "gridcolor": "white",
            "gridwidth": 2,
            "linecolor": "white",
            "showbackground": true,
            "ticks": "",
            "zerolinecolor": "white"
           }
          },
          "shapedefaults": {
           "line": {
            "color": "#2a3f5f"
           }
          },
          "ternary": {
           "aaxis": {
            "gridcolor": "white",
            "linecolor": "white",
            "ticks": ""
           },
           "baxis": {
            "gridcolor": "white",
            "linecolor": "white",
            "ticks": ""
           },
           "bgcolor": "#E5ECF6",
           "caxis": {
            "gridcolor": "white",
            "linecolor": "white",
            "ticks": ""
           }
          },
          "title": {
           "x": 0.05
          },
          "xaxis": {
           "automargin": true,
           "gridcolor": "white",
           "linecolor": "white",
           "ticks": "",
           "title": {
            "standoff": 15
           },
           "zerolinecolor": "white",
           "zerolinewidth": 2
          },
          "yaxis": {
           "automargin": true,
           "gridcolor": "white",
           "linecolor": "white",
           "ticks": "",
           "title": {
            "standoff": 15
           },
           "zerolinecolor": "white",
           "zerolinewidth": 2
          }
         }
        },
        "width": 1300
       }
      }
     },
     "metadata": {},
     "output_type": "display_data"
    }
   ],
   "source": [
    "fig = px.scatter_mapbox(Lights, lat=\"Lat\", lon=\"Long\")\n",
    "fig.add_trace(go.Scattermapbox(\n",
    "    lon = Lights.iloc[:,1],\n",
    "    lat = Lights.iloc[:,0],\n",
    "    marker = dict(size= 48, color = '#280045'),\n",
    "    name = \"Lights\"))\n",
    "\n",
    "fig.add_trace(go.Scattermapbox(\n",
    "    lon = Lights.iloc[:,1],\n",
    "    lat = Lights.iloc[:,0],\n",
    "    marker = dict(size= 44, color = '#142E13'),\n",
    "    name = \"Lights\"))\n",
    "\n",
    "fig.add_trace(go.Scattermapbox(\n",
    "    lon = Lights.iloc[:,1],\n",
    "    lat = Lights.iloc[:,0],\n",
    "    marker = dict(size= 40, color = '#16350F'),\n",
    "    name = \"Lights\"))\n",
    "\n",
    "fig.add_trace(go.Scattermapbox(\n",
    "    lon = Lights.iloc[:,1],\n",
    "    lat = Lights.iloc[:,0],\n",
    "    marker = dict(size= 36, color = '#245F26'),\n",
    "    name = \"Lights\"))\n",
    "\n",
    "fig.add_trace(go.Scattermapbox(\n",
    "    lon = Lights.iloc[:,1],\n",
    "    lat = Lights.iloc[:,0],\n",
    "    marker = dict(size= 32, color = '#122616'),\n",
    "    name = \"Lights\"))\n",
    "\n",
    "fig.add_trace(go.Scattermapbox(\n",
    "    lon = Lights.iloc[:,1],\n",
    "    lat = Lights.iloc[:,0],\n",
    "    marker = dict(size= 28, color = '#1C3823'),\n",
    "    name = \"Lights\"))\n",
    "\n",
    "fig.add_trace(go.Scattermapbox(\n",
    "    lon = Lights.iloc[:,1],\n",
    "    lat = Lights.iloc[:,0],\n",
    "    marker = dict(size= 24, color = '#1A3C1B'),\n",
    "    name = \"Lights\"))\n",
    "\n",
    "fig.add_trace(go.Scattermapbox(\n",
    "    lon = Lights.iloc[:,1],\n",
    "    lat = Lights.iloc[:,0],\n",
    "    marker = dict(size= 20, color = '#234A2B'),\n",
    "    name = \"Lights\"))\n",
    "\n",
    "fig.add_trace(go.Scattermapbox(\n",
    "    lon = Lights.iloc[:,1],\n",
    "    lat = Lights.iloc[:,0],\n",
    "    marker = dict(size= 16, color = '#4F9F56'),\n",
    "    name = \"Lights\"))\n",
    "\n",
    "fig.add_trace(go.Scattermapbox(\n",
    "    lon = Lights.iloc[:,1],\n",
    "    lat = Lights.iloc[:,0],\n",
    "    marker = dict(size= 12, color = '#4F9F56'),\n",
    "    name = \"Lights\"))\n",
    "\n",
    "fig.add_trace(go.Scattermapbox(\n",
    "    lon = Lights.iloc[:,1],\n",
    "    lat = Lights.iloc[:,0],\n",
    "    marker = dict(size= 8, color = '#75E183'),\n",
    "    name = \"Lights\"))\n",
    "\n",
    "\n",
    "fig.add_trace(go.Scattermapbox(\n",
    "    lon = Lights.iloc[:,1],\n",
    "    lat = Lights.iloc[:,0],\n",
    "    marker = dict(size= 4, color = '#9AECB0'),\n",
    "    name = \"Lights\"))\n",
    "\n",
    "fig.update_layout(mapbox_style=\"mapbox://styles/datasciencenot2/clp7jmtny01sp01o429xs64qe\", mapbox_zoom=3.1, mapbox_center_lat = 71,mapbox_center_lon = 23,\n",
    "    margin={\"r\":0,\"t\":0,\"l\":0,\"b\":0},paper_bgcolor = '#000000',legend_font_color=\"#4B9A4A\")\n",
    "\n",
    "\n",
    "fig.show()"
   ]
  },
  {
   "cell_type": "code",
   "execution_count": 6,
   "metadata": {},
   "outputs": [],
   "source": [
    "#fig.write_html(\"europeplot.html\")"
   ]
  },
  {
   "cell_type": "code",
   "execution_count": 7,
   "metadata": {},
   "outputs": [
    {
     "ename": "ValueError",
     "evalue": "Transform failed with error code 525: Mapbox error.",
     "output_type": "error",
     "traceback": [
      "\u001b[1;31m---------------------------------------------------------------------------\u001b[0m",
      "\u001b[1;31mValueError\u001b[0m                                Traceback (most recent call last)",
      "\u001b[1;32mc:\\Users\\vicks\\OneDrive\\Data Science (not uni)\\Portfolio\\30 Day Map Challenge\\30-Day-Map-Challenge-2023\\Code\\Day 14.ipynb Cell 15\u001b[0m line \u001b[0;36m<cell line: 1>\u001b[1;34m()\u001b[0m\n\u001b[1;32m----> <a href='vscode-notebook-cell:/c%3A/Users/vicks/OneDrive/Data%20Science%20%28not%20uni%29/Portfolio/30%20Day%20Map%20Challenge/30-Day-Map-Challenge-2023/Code/Day%2014.ipynb#X20sZmlsZQ%3D%3D?line=0'>1</a>\u001b[0m fig\u001b[39m.\u001b[39;49mwrite_image(\u001b[39m\"\u001b[39;49m\u001b[39mDay 14.png\u001b[39;49m\u001b[39m\"\u001b[39;49m)\n",
      "File \u001b[1;32mc:\\Users\\vicks\\AppData\\Local\\Programs\\Python\\Python39\\lib\\site-packages\\plotly\\basedatatypes.py:3841\u001b[0m, in \u001b[0;36mBaseFigure.write_image\u001b[1;34m(self, *args, **kwargs)\u001b[0m\n\u001b[0;32m   3781\u001b[0m \u001b[39m\"\"\"\u001b[39;00m\n\u001b[0;32m   3782\u001b[0m \u001b[39mConvert a figure to a static image and write it to a file or writeable\u001b[39;00m\n\u001b[0;32m   3783\u001b[0m \u001b[39mobject\u001b[39;00m\n\u001b[1;32m   (...)\u001b[0m\n\u001b[0;32m   3837\u001b[0m \u001b[39mNone\u001b[39;00m\n\u001b[0;32m   3838\u001b[0m \u001b[39m\"\"\"\u001b[39;00m\n\u001b[0;32m   3839\u001b[0m \u001b[39mimport\u001b[39;00m \u001b[39mplotly\u001b[39;00m\u001b[39m.\u001b[39;00m\u001b[39mio\u001b[39;00m \u001b[39mas\u001b[39;00m \u001b[39mpio\u001b[39;00m\n\u001b[1;32m-> 3841\u001b[0m \u001b[39mreturn\u001b[39;00m pio\u001b[39m.\u001b[39mwrite_image(\u001b[39mself\u001b[39m, \u001b[39m*\u001b[39margs, \u001b[39m*\u001b[39m\u001b[39m*\u001b[39mkwargs)\n",
      "File \u001b[1;32mc:\\Users\\vicks\\AppData\\Local\\Programs\\Python\\Python39\\lib\\site-packages\\plotly\\io\\_kaleido.py:266\u001b[0m, in \u001b[0;36mwrite_image\u001b[1;34m(fig, file, format, scale, width, height, validate, engine)\u001b[0m\n\u001b[0;32m    250\u001b[0m             \u001b[39mraise\u001b[39;00m \u001b[39mValueError\u001b[39;00m(\n\u001b[0;32m    251\u001b[0m                 \u001b[39m\"\"\"\u001b[39;00m\n\u001b[0;32m    252\u001b[0m \u001b[39mCannot infer image type from output path '{file}'.\u001b[39;00m\n\u001b[1;32m   (...)\u001b[0m\n\u001b[0;32m    260\u001b[0m                 )\n\u001b[0;32m    261\u001b[0m             )\n\u001b[0;32m    263\u001b[0m     \u001b[39m# Request image\u001b[39;00m\n\u001b[0;32m    264\u001b[0m     \u001b[39m# -------------\u001b[39;00m\n\u001b[0;32m    265\u001b[0m     \u001b[39m# Do this first so we don't create a file if image conversion fails\u001b[39;00m\n\u001b[1;32m--> 266\u001b[0m     img_data \u001b[39m=\u001b[39m to_image(\n\u001b[0;32m    267\u001b[0m         fig,\n\u001b[0;32m    268\u001b[0m         \u001b[39mformat\u001b[39;49m\u001b[39m=\u001b[39;49m\u001b[39mformat\u001b[39;49m,\n\u001b[0;32m    269\u001b[0m         scale\u001b[39m=\u001b[39;49mscale,\n\u001b[0;32m    270\u001b[0m         width\u001b[39m=\u001b[39;49mwidth,\n\u001b[0;32m    271\u001b[0m         height\u001b[39m=\u001b[39;49mheight,\n\u001b[0;32m    272\u001b[0m         validate\u001b[39m=\u001b[39;49mvalidate,\n\u001b[0;32m    273\u001b[0m         engine\u001b[39m=\u001b[39;49mengine,\n\u001b[0;32m    274\u001b[0m     )\n\u001b[0;32m    276\u001b[0m     \u001b[39m# Open file\u001b[39;00m\n\u001b[0;32m    277\u001b[0m     \u001b[39m# ---------\u001b[39;00m\n\u001b[0;32m    278\u001b[0m     \u001b[39mif\u001b[39;00m path \u001b[39mis\u001b[39;00m \u001b[39mNone\u001b[39;00m:\n\u001b[0;32m    279\u001b[0m         \u001b[39m# We previously failed to make sense of `file` as a pathlib object.\u001b[39;00m\n\u001b[0;32m    280\u001b[0m         \u001b[39m# Attempt to write to `file` as an open file descriptor.\u001b[39;00m\n",
      "File \u001b[1;32mc:\\Users\\vicks\\AppData\\Local\\Programs\\Python\\Python39\\lib\\site-packages\\plotly\\io\\_kaleido.py:143\u001b[0m, in \u001b[0;36mto_image\u001b[1;34m(fig, format, width, height, scale, validate, engine)\u001b[0m\n\u001b[0;32m    140\u001b[0m \u001b[39m# Validate figure\u001b[39;00m\n\u001b[0;32m    141\u001b[0m \u001b[39m# ---------------\u001b[39;00m\n\u001b[0;32m    142\u001b[0m fig_dict \u001b[39m=\u001b[39m validate_coerce_fig_to_dict(fig, validate)\n\u001b[1;32m--> 143\u001b[0m img_bytes \u001b[39m=\u001b[39m scope\u001b[39m.\u001b[39;49mtransform(\n\u001b[0;32m    144\u001b[0m     fig_dict, \u001b[39mformat\u001b[39;49m\u001b[39m=\u001b[39;49m\u001b[39mformat\u001b[39;49m, width\u001b[39m=\u001b[39;49mwidth, height\u001b[39m=\u001b[39;49mheight, scale\u001b[39m=\u001b[39;49mscale\n\u001b[0;32m    145\u001b[0m )\n\u001b[0;32m    147\u001b[0m \u001b[39mreturn\u001b[39;00m img_bytes\n",
      "File \u001b[1;32mc:\\Users\\vicks\\AppData\\Local\\Programs\\Python\\Python39\\lib\\site-packages\\kaleido\\scopes\\plotly.py:161\u001b[0m, in \u001b[0;36mPlotlyScope.transform\u001b[1;34m(self, figure, format, width, height, scale)\u001b[0m\n\u001b[0;32m    159\u001b[0m \u001b[39mif\u001b[39;00m code \u001b[39m!=\u001b[39m \u001b[39m0\u001b[39m:\n\u001b[0;32m    160\u001b[0m     message \u001b[39m=\u001b[39m response\u001b[39m.\u001b[39mget(\u001b[39m\"\u001b[39m\u001b[39mmessage\u001b[39m\u001b[39m\"\u001b[39m, \u001b[39mNone\u001b[39;00m)\n\u001b[1;32m--> 161\u001b[0m     \u001b[39mraise\u001b[39;00m \u001b[39mValueError\u001b[39;00m(\n\u001b[0;32m    162\u001b[0m         \u001b[39m\"\u001b[39m\u001b[39mTransform failed with error code \u001b[39m\u001b[39m{code}\u001b[39;00m\u001b[39m: \u001b[39m\u001b[39m{message}\u001b[39;00m\u001b[39m\"\u001b[39m\u001b[39m.\u001b[39mformat(\n\u001b[0;32m    163\u001b[0m             code\u001b[39m=\u001b[39mcode, message\u001b[39m=\u001b[39mmessage\n\u001b[0;32m    164\u001b[0m         )\n\u001b[0;32m    165\u001b[0m     )\n\u001b[0;32m    167\u001b[0m img \u001b[39m=\u001b[39m response\u001b[39m.\u001b[39mget(\u001b[39m\"\u001b[39m\u001b[39mresult\u001b[39m\u001b[39m\"\u001b[39m)\u001b[39m.\u001b[39mencode(\u001b[39m\"\u001b[39m\u001b[39mutf-8\u001b[39m\u001b[39m\"\u001b[39m)\n\u001b[0;32m    169\u001b[0m \u001b[39m# Base64 decode binary types\u001b[39;00m\n",
      "\u001b[1;31mValueError\u001b[0m: Transform failed with error code 525: Mapbox error."
     ]
    }
   ],
   "source": [
    "fig.write_image(\"Day 14.png\")"
   ]
  },
  {
   "cell_type": "code",
   "execution_count": null,
   "metadata": {},
   "outputs": [],
   "source": [
    "#pip install kaleido"
   ]
  }
 ],
 "metadata": {
  "kernelspec": {
   "display_name": "Python 3",
   "language": "python",
   "name": "python3"
  },
  "language_info": {
   "codemirror_mode": {
    "name": "ipython",
    "version": 3
   },
   "file_extension": ".py",
   "mimetype": "text/x-python",
   "name": "python",
   "nbconvert_exporter": "python",
   "pygments_lexer": "ipython3",
   "version": "3.9.5"
  }
 },
 "nbformat": 4,
 "nbformat_minor": 2
}
