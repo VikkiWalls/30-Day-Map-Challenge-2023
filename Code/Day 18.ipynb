{
 "cells": [
  {
   "cell_type": "markdown",
   "metadata": {},
   "source": [
    "# 30 Day Map Challenge"
   ]
  },
  {
   "cell_type": "markdown",
   "metadata": {},
   "source": [
    "## Day 18 - Atmosphere"
   ]
  },
  {
   "cell_type": "markdown",
   "metadata": {},
   "source": [
    "Plan: Illustrate where the most air pollution comes from in the world."
   ]
  },
  {
   "cell_type": "markdown",
   "metadata": {},
   "source": [
    "Setting up the notebook"
   ]
  },
  {
   "cell_type": "code",
   "execution_count": 1,
   "metadata": {},
   "outputs": [],
   "source": [
    "import os\n",
    "import pandas as pd\n",
    "import plotly.graph_objects as go\n",
    "import plotly.express as px\n",
    "\n",
    "%matplotlib inline\n",
    "px.defaults.width = 1300\n",
    "px.defaults.height = 800"
   ]
  },
  {
   "cell_type": "markdown",
   "metadata": {},
   "source": [
    "Setting the working directory"
   ]
  },
  {
   "cell_type": "code",
   "execution_count": 2,
   "metadata": {},
   "outputs": [],
   "source": [
    "os.getcwd()\n",
    "os.chdir(\"c:\\\\Users\\\\vicks\\\\OneDrive\\\\Data Science (not uni)\\\\Portfolio\\\\30 Day Map Challenge\\\\2023 data\\\\Day 18\")"
   ]
  },
  {
   "cell_type": "markdown",
   "metadata": {},
   "source": [
    "Importing the [data](https://spacetourismguide.com/northern-lights-norway/)"
   ]
  },
  {
   "cell_type": "code",
   "execution_count": 3,
   "metadata": {},
   "outputs": [
    {
     "data": {
      "text/html": [
       "<div>\n",
       "<style scoped>\n",
       "    .dataframe tbody tr th:only-of-type {\n",
       "        vertical-align: middle;\n",
       "    }\n",
       "\n",
       "    .dataframe tbody tr th {\n",
       "        vertical-align: top;\n",
       "    }\n",
       "\n",
       "    .dataframe thead th {\n",
       "        text-align: right;\n",
       "    }\n",
       "</style>\n",
       "<table border=\"1\" class=\"dataframe\">\n",
       "  <thead>\n",
       "    <tr style=\"text-align: right;\">\n",
       "      <th></th>\n",
       "      <th>Country</th>\n",
       "      <th>Per capita</th>\n",
       "      <th>Share of world</th>\n",
       "      <th>CO2 Emissions (tons, 2016)</th>\n",
       "      <th>Lat</th>\n",
       "      <th>Long</th>\n",
       "    </tr>\n",
       "  </thead>\n",
       "  <tbody>\n",
       "    <tr>\n",
       "      <th>0</th>\n",
       "      <td>China</td>\n",
       "      <td>7.44</td>\n",
       "      <td>29.18%</td>\n",
       "      <td>10,432,751,400</td>\n",
       "      <td>35.86166</td>\n",
       "      <td>104.19539</td>\n",
       "    </tr>\n",
       "    <tr>\n",
       "      <th>1</th>\n",
       "      <td>United States</td>\n",
       "      <td>15.32</td>\n",
       "      <td>14.02%</td>\n",
       "      <td>5,011,686,600</td>\n",
       "      <td>37.09024</td>\n",
       "      <td>-95.71289</td>\n",
       "    </tr>\n",
       "    <tr>\n",
       "      <th>2</th>\n",
       "      <td>India</td>\n",
       "      <td>1.89</td>\n",
       "      <td>7.09%</td>\n",
       "      <td>2,533,638,100</td>\n",
       "      <td>20.59368</td>\n",
       "      <td>78.96288</td>\n",
       "    </tr>\n",
       "    <tr>\n",
       "      <th>3</th>\n",
       "      <td>Russia</td>\n",
       "      <td>11.45</td>\n",
       "      <td>4.65%</td>\n",
       "      <td>1,661,899,300</td>\n",
       "      <td>61.52401</td>\n",
       "      <td>105.31875</td>\n",
       "    </tr>\n",
       "    <tr>\n",
       "      <th>4</th>\n",
       "      <td>Japan</td>\n",
       "      <td>9.76</td>\n",
       "      <td>3.47%</td>\n",
       "      <td>1,239,592,060</td>\n",
       "      <td>36.20482</td>\n",
       "      <td>138.25292</td>\n",
       "    </tr>\n",
       "  </tbody>\n",
       "</table>\n",
       "</div>"
      ],
      "text/plain": [
       "         Country  Per capita Share of world CO2 Emissions (tons, 2016)  \\\n",
       "0          China        7.44         29.18%             10,432,751,400   \n",
       "1  United States       15.32         14.02%              5,011,686,600   \n",
       "2          India        1.89          7.09%              2,533,638,100   \n",
       "3         Russia       11.45          4.65%              1,661,899,300   \n",
       "4          Japan        9.76          3.47%              1,239,592,060   \n",
       "\n",
       "        Lat       Long  \n",
       "0  35.86166  104.19539  \n",
       "1  37.09024  -95.71289  \n",
       "2  20.59368   78.96288  \n",
       "3  61.52401  105.31875  \n",
       "4  36.20482  138.25292  "
      ]
     },
     "execution_count": 3,
     "metadata": {},
     "output_type": "execute_result"
    }
   ],
   "source": [
    "Total = pd.read_csv(\"Co2 Total.csv\")\n",
    "Total.head()"
   ]
  },
  {
   "cell_type": "code",
   "execution_count": 4,
   "metadata": {},
   "outputs": [
    {
     "data": {
      "text/html": [
       "<div>\n",
       "<style scoped>\n",
       "    .dataframe tbody tr th:only-of-type {\n",
       "        vertical-align: middle;\n",
       "    }\n",
       "\n",
       "    .dataframe tbody tr th {\n",
       "        vertical-align: top;\n",
       "    }\n",
       "\n",
       "    .dataframe thead th {\n",
       "        text-align: right;\n",
       "    }\n",
       "</style>\n",
       "<table border=\"1\" class=\"dataframe\">\n",
       "  <thead>\n",
       "    <tr style=\"text-align: right;\">\n",
       "      <th></th>\n",
       "      <th>Country</th>\n",
       "      <th>Per capita</th>\n",
       "      <th>Share of world</th>\n",
       "      <th>CO2 Emissions (tons, 2016)</th>\n",
       "      <th>Lat</th>\n",
       "      <th>Long</th>\n",
       "    </tr>\n",
       "  </thead>\n",
       "  <tbody>\n",
       "    <tr>\n",
       "      <th>0</th>\n",
       "      <td>Qatar</td>\n",
       "      <td>38.14</td>\n",
       "      <td>0.28%</td>\n",
       "      <td>98,990,085</td>\n",
       "      <td>25.35482</td>\n",
       "      <td>51.18388</td>\n",
       "    </tr>\n",
       "    <tr>\n",
       "      <th>1</th>\n",
       "      <td>Montenegro</td>\n",
       "      <td>25.66</td>\n",
       "      <td>0.05%</td>\n",
       "      <td>16,249,039</td>\n",
       "      <td>42.70867</td>\n",
       "      <td>19.37438</td>\n",
       "    </tr>\n",
       "    <tr>\n",
       "      <th>2</th>\n",
       "      <td>Kuwait</td>\n",
       "      <td>25.07</td>\n",
       "      <td>0.28%</td>\n",
       "      <td>101,492,225</td>\n",
       "      <td>29.31166</td>\n",
       "      <td>47.48176</td>\n",
       "    </tr>\n",
       "    <tr>\n",
       "      <th>3</th>\n",
       "      <td>United Arab Emirates</td>\n",
       "      <td>24.33</td>\n",
       "      <td>0.61%</td>\n",
       "      <td>218,788,684</td>\n",
       "      <td>23.42407</td>\n",
       "      <td>53.84781</td>\n",
       "    </tr>\n",
       "    <tr>\n",
       "      <th>4</th>\n",
       "      <td>Trinidad and Tobago</td>\n",
       "      <td>23.80</td>\n",
       "      <td>0.10%</td>\n",
       "      <td>34,974,263</td>\n",
       "      <td>10.69180</td>\n",
       "      <td>-61.22250</td>\n",
       "    </tr>\n",
       "  </tbody>\n",
       "</table>\n",
       "</div>"
      ],
      "text/plain": [
       "                Country  Per capita Share of world CO2 Emissions (tons, 2016)  \\\n",
       "0                 Qatar       38.14          0.28%                 98,990,085   \n",
       "1            Montenegro       25.66          0.05%                 16,249,039   \n",
       "2                Kuwait       25.07          0.28%                101,492,225   \n",
       "3  United Arab Emirates       24.33          0.61%                218,788,684   \n",
       "4   Trinidad and Tobago       23.80          0.10%                 34,974,263   \n",
       "\n",
       "        Lat      Long  \n",
       "0  25.35482  51.18388  \n",
       "1  42.70867  19.37438  \n",
       "2  29.31166  47.48176  \n",
       "3  23.42407  53.84781  \n",
       "4  10.69180 -61.22250  "
      ]
     },
     "execution_count": 4,
     "metadata": {},
     "output_type": "execute_result"
    }
   ],
   "source": [
    "PerCap = pd.read_csv(\"Co2 Per Capita.csv\")\n",
    "PerCap.head()"
   ]
  },
  {
   "cell_type": "markdown",
   "metadata": {},
   "source": [
    "Impoering my mapbox token"
   ]
  },
  {
   "cell_type": "code",
   "execution_count": 5,
   "metadata": {},
   "outputs": [],
   "source": [
    "px.set_mapbox_access_token(open('mapboxtoken.txt').read())"
   ]
  },
  {
   "cell_type": "markdown",
   "metadata": {},
   "source": [
    "Plotting the map using my custom mapbox style"
   ]
  },
  {
   "cell_type": "code",
   "execution_count": 6,
   "metadata": {},
   "outputs": [
    {
     "data": {
      "application/vnd.plotly.v1+json": {
       "config": {
        "plotlyServerURL": "https://plot.ly"
       },
       "data": [
        {
         "hovertemplate": "Lat=%{lat}<br>Long=%{lon}<extra></extra>",
         "lat": [
          35.86166,
          37.09024,
          20.59368,
          61.52401,
          36.20482,
          51.16569,
          56.13036,
          32.4279,
          35.90775,
          -0.78927,
          23.88594,
          -14.235,
          23.6345,
          -25.27439,
          -30.55948,
          38.96374,
          55.37805,
          41.87194,
          46.22763,
          51.91943,
          23.69781,
          15.87003,
          4.21048,
          40.46366,
          48.37943,
          48.01957,
          26.82055,
          23.42407,
          14.05832,
          -38.41609,
          30.37532,
          6.42375,
          52.13263,
          33.22319,
          28.03388,
          12.87972
         ],
         "legendgroup": "",
         "lon": [
          104.19539,
          -95.71289,
          78.96288,
          105.31875,
          138.25292,
          10.45152,
          -106.34677,
          53.68804,
          127.76692,
          113.92132,
          45.07916,
          -51.92528,
          -102.55278,
          133.77513,
          22.9375,
          35.24332,
          -3.43597,
          12.56738,
          2.21374,
          19.14513,
          120.96051,
          100.99254,
          101.97576,
          -3.74922,
          31.16558,
          66.92368,
          30.80249,
          53.84781,
          108.27719,
          -63.61667,
          69.34511,
          -66.58973,
          5.29126,
          43.67929,
          1.65962,
          121.77401
         ],
         "marker": {
          "color": "#636efa"
         },
         "mode": "markers",
         "name": "",
         "showlegend": false,
         "subplot": "mapbox",
         "type": "scattermapbox"
        },
        {
         "lat": [
          35.86166,
          37.09024,
          20.59368,
          61.52401,
          36.20482,
          51.16569,
          56.13036,
          32.4279,
          35.90775,
          -0.78927,
          23.88594,
          -14.235,
          23.6345,
          -25.27439,
          -30.55948,
          38.96374,
          55.37805,
          41.87194,
          46.22763,
          51.91943,
          23.69781,
          15.87003,
          4.21048,
          40.46366,
          48.37943,
          48.01957,
          26.82055,
          23.42407,
          14.05832,
          -38.41609,
          30.37532,
          6.42375,
          52.13263,
          33.22319,
          28.03388,
          12.87972
         ],
         "lon": [
          104.19539,
          -95.71289,
          78.96288,
          105.31875,
          138.25292,
          10.45152,
          -106.34677,
          53.68804,
          127.76692,
          113.92132,
          45.07916,
          -51.92528,
          -102.55278,
          133.77513,
          22.9375,
          35.24332,
          -3.43597,
          12.56738,
          2.21374,
          19.14513,
          120.96051,
          100.99254,
          101.97576,
          -3.74922,
          31.16558,
          66.92368,
          30.80249,
          53.84781,
          108.27719,
          -63.61667,
          69.34511,
          -66.58973,
          5.29126,
          43.67929,
          1.65962,
          121.77401
         ],
         "marker": {
          "color": "#850f0f",
          "size": 20
         },
         "name": "Most Total CO2",
         "type": "scattermapbox"
        },
        {
         "lat": [
          25.35482,
          42.70867,
          29.31166,
          23.42407,
          10.6918,
          21.47353,
          56.13036,
          4.53527,
          36.14075,
          49.81527,
          26.0667,
          -25.27439,
          58.59527,
          23.88594,
          37.09024,
          -51.79625
         ],
         "lon": [
          51.18388,
          19.37438,
          47.48176,
          53.84781,
          -61.2225,
          55.97541,
          -106.34677,
          114.72766,
          -5.35358,
          6.12958,
          50.5577,
          133.77513,
          25.0136,
          45.07916,
          -95.71289,
          -59.52361
         ],
         "marker": {
          "color": "#ff4545",
          "size": 10
         },
         "name": "Most CO2 Per Capita",
         "type": "scattermapbox"
        }
       ],
       "layout": {
        "height": 800,
        "legend": {
         "font": {
          "color": "#000000"
         },
         "tracegroupgap": 0
        },
        "mapbox": {
         "accesstoken": "pk.eyJ1IjoiZGF0YXNjaWVuY2Vub3QyIiwiYSI6ImNsYWhlM2YxbTA0ZDczcGxhc3p4ZDM0Nm8ifQ.fSTIJa-K8RElOVSIFLcTBQ",
         "center": {
          "lat": 30,
          "lon": 0
         },
         "domain": {
          "x": [
           0,
           1
          ],
          "y": [
           0,
           1
          ]
         },
         "style": "mapbox://styles/datasciencenot2/clmtaekbb02g901r4alyt6hw1",
         "zoom": 1.1
        },
        "margin": {
         "b": 0,
         "l": 0,
         "r": 0,
         "t": 0
        },
        "paper_bgcolor": "#0071B9",
        "template": {
         "data": {
          "bar": [
           {
            "error_x": {
             "color": "#2a3f5f"
            },
            "error_y": {
             "color": "#2a3f5f"
            },
            "marker": {
             "line": {
              "color": "#E5ECF6",
              "width": 0.5
             },
             "pattern": {
              "fillmode": "overlay",
              "size": 10,
              "solidity": 0.2
             }
            },
            "type": "bar"
           }
          ],
          "barpolar": [
           {
            "marker": {
             "line": {
              "color": "#E5ECF6",
              "width": 0.5
             },
             "pattern": {
              "fillmode": "overlay",
              "size": 10,
              "solidity": 0.2
             }
            },
            "type": "barpolar"
           }
          ],
          "carpet": [
           {
            "aaxis": {
             "endlinecolor": "#2a3f5f",
             "gridcolor": "white",
             "linecolor": "white",
             "minorgridcolor": "white",
             "startlinecolor": "#2a3f5f"
            },
            "baxis": {
             "endlinecolor": "#2a3f5f",
             "gridcolor": "white",
             "linecolor": "white",
             "minorgridcolor": "white",
             "startlinecolor": "#2a3f5f"
            },
            "type": "carpet"
           }
          ],
          "choropleth": [
           {
            "colorbar": {
             "outlinewidth": 0,
             "ticks": ""
            },
            "type": "choropleth"
           }
          ],
          "contour": [
           {
            "colorbar": {
             "outlinewidth": 0,
             "ticks": ""
            },
            "colorscale": [
             [
              0,
              "#0d0887"
             ],
             [
              0.1111111111111111,
              "#46039f"
             ],
             [
              0.2222222222222222,
              "#7201a8"
             ],
             [
              0.3333333333333333,
              "#9c179e"
             ],
             [
              0.4444444444444444,
              "#bd3786"
             ],
             [
              0.5555555555555556,
              "#d8576b"
             ],
             [
              0.6666666666666666,
              "#ed7953"
             ],
             [
              0.7777777777777778,
              "#fb9f3a"
             ],
             [
              0.8888888888888888,
              "#fdca26"
             ],
             [
              1,
              "#f0f921"
             ]
            ],
            "type": "contour"
           }
          ],
          "contourcarpet": [
           {
            "colorbar": {
             "outlinewidth": 0,
             "ticks": ""
            },
            "type": "contourcarpet"
           }
          ],
          "heatmap": [
           {
            "colorbar": {
             "outlinewidth": 0,
             "ticks": ""
            },
            "colorscale": [
             [
              0,
              "#0d0887"
             ],
             [
              0.1111111111111111,
              "#46039f"
             ],
             [
              0.2222222222222222,
              "#7201a8"
             ],
             [
              0.3333333333333333,
              "#9c179e"
             ],
             [
              0.4444444444444444,
              "#bd3786"
             ],
             [
              0.5555555555555556,
              "#d8576b"
             ],
             [
              0.6666666666666666,
              "#ed7953"
             ],
             [
              0.7777777777777778,
              "#fb9f3a"
             ],
             [
              0.8888888888888888,
              "#fdca26"
             ],
             [
              1,
              "#f0f921"
             ]
            ],
            "type": "heatmap"
           }
          ],
          "heatmapgl": [
           {
            "colorbar": {
             "outlinewidth": 0,
             "ticks": ""
            },
            "colorscale": [
             [
              0,
              "#0d0887"
             ],
             [
              0.1111111111111111,
              "#46039f"
             ],
             [
              0.2222222222222222,
              "#7201a8"
             ],
             [
              0.3333333333333333,
              "#9c179e"
             ],
             [
              0.4444444444444444,
              "#bd3786"
             ],
             [
              0.5555555555555556,
              "#d8576b"
             ],
             [
              0.6666666666666666,
              "#ed7953"
             ],
             [
              0.7777777777777778,
              "#fb9f3a"
             ],
             [
              0.8888888888888888,
              "#fdca26"
             ],
             [
              1,
              "#f0f921"
             ]
            ],
            "type": "heatmapgl"
           }
          ],
          "histogram": [
           {
            "marker": {
             "pattern": {
              "fillmode": "overlay",
              "size": 10,
              "solidity": 0.2
             }
            },
            "type": "histogram"
           }
          ],
          "histogram2d": [
           {
            "colorbar": {
             "outlinewidth": 0,
             "ticks": ""
            },
            "colorscale": [
             [
              0,
              "#0d0887"
             ],
             [
              0.1111111111111111,
              "#46039f"
             ],
             [
              0.2222222222222222,
              "#7201a8"
             ],
             [
              0.3333333333333333,
              "#9c179e"
             ],
             [
              0.4444444444444444,
              "#bd3786"
             ],
             [
              0.5555555555555556,
              "#d8576b"
             ],
             [
              0.6666666666666666,
              "#ed7953"
             ],
             [
              0.7777777777777778,
              "#fb9f3a"
             ],
             [
              0.8888888888888888,
              "#fdca26"
             ],
             [
              1,
              "#f0f921"
             ]
            ],
            "type": "histogram2d"
           }
          ],
          "histogram2dcontour": [
           {
            "colorbar": {
             "outlinewidth": 0,
             "ticks": ""
            },
            "colorscale": [
             [
              0,
              "#0d0887"
             ],
             [
              0.1111111111111111,
              "#46039f"
             ],
             [
              0.2222222222222222,
              "#7201a8"
             ],
             [
              0.3333333333333333,
              "#9c179e"
             ],
             [
              0.4444444444444444,
              "#bd3786"
             ],
             [
              0.5555555555555556,
              "#d8576b"
             ],
             [
              0.6666666666666666,
              "#ed7953"
             ],
             [
              0.7777777777777778,
              "#fb9f3a"
             ],
             [
              0.8888888888888888,
              "#fdca26"
             ],
             [
              1,
              "#f0f921"
             ]
            ],
            "type": "histogram2dcontour"
           }
          ],
          "mesh3d": [
           {
            "colorbar": {
             "outlinewidth": 0,
             "ticks": ""
            },
            "type": "mesh3d"
           }
          ],
          "parcoords": [
           {
            "line": {
             "colorbar": {
              "outlinewidth": 0,
              "ticks": ""
             }
            },
            "type": "parcoords"
           }
          ],
          "pie": [
           {
            "automargin": true,
            "type": "pie"
           }
          ],
          "scatter": [
           {
            "fillpattern": {
             "fillmode": "overlay",
             "size": 10,
             "solidity": 0.2
            },
            "type": "scatter"
           }
          ],
          "scatter3d": [
           {
            "line": {
             "colorbar": {
              "outlinewidth": 0,
              "ticks": ""
             }
            },
            "marker": {
             "colorbar": {
              "outlinewidth": 0,
              "ticks": ""
             }
            },
            "type": "scatter3d"
           }
          ],
          "scattercarpet": [
           {
            "marker": {
             "colorbar": {
              "outlinewidth": 0,
              "ticks": ""
             }
            },
            "type": "scattercarpet"
           }
          ],
          "scattergeo": [
           {
            "marker": {
             "colorbar": {
              "outlinewidth": 0,
              "ticks": ""
             }
            },
            "type": "scattergeo"
           }
          ],
          "scattergl": [
           {
            "marker": {
             "colorbar": {
              "outlinewidth": 0,
              "ticks": ""
             }
            },
            "type": "scattergl"
           }
          ],
          "scattermapbox": [
           {
            "marker": {
             "colorbar": {
              "outlinewidth": 0,
              "ticks": ""
             }
            },
            "type": "scattermapbox"
           }
          ],
          "scatterpolar": [
           {
            "marker": {
             "colorbar": {
              "outlinewidth": 0,
              "ticks": ""
             }
            },
            "type": "scatterpolar"
           }
          ],
          "scatterpolargl": [
           {
            "marker": {
             "colorbar": {
              "outlinewidth": 0,
              "ticks": ""
             }
            },
            "type": "scatterpolargl"
           }
          ],
          "scatterternary": [
           {
            "marker": {
             "colorbar": {
              "outlinewidth": 0,
              "ticks": ""
             }
            },
            "type": "scatterternary"
           }
          ],
          "surface": [
           {
            "colorbar": {
             "outlinewidth": 0,
             "ticks": ""
            },
            "colorscale": [
             [
              0,
              "#0d0887"
             ],
             [
              0.1111111111111111,
              "#46039f"
             ],
             [
              0.2222222222222222,
              "#7201a8"
             ],
             [
              0.3333333333333333,
              "#9c179e"
             ],
             [
              0.4444444444444444,
              "#bd3786"
             ],
             [
              0.5555555555555556,
              "#d8576b"
             ],
             [
              0.6666666666666666,
              "#ed7953"
             ],
             [
              0.7777777777777778,
              "#fb9f3a"
             ],
             [
              0.8888888888888888,
              "#fdca26"
             ],
             [
              1,
              "#f0f921"
             ]
            ],
            "type": "surface"
           }
          ],
          "table": [
           {
            "cells": {
             "fill": {
              "color": "#EBF0F8"
             },
             "line": {
              "color": "white"
             }
            },
            "header": {
             "fill": {
              "color": "#C8D4E3"
             },
             "line": {
              "color": "white"
             }
            },
            "type": "table"
           }
          ]
         },
         "layout": {
          "annotationdefaults": {
           "arrowcolor": "#2a3f5f",
           "arrowhead": 0,
           "arrowwidth": 1
          },
          "autotypenumbers": "strict",
          "coloraxis": {
           "colorbar": {
            "outlinewidth": 0,
            "ticks": ""
           }
          },
          "colorscale": {
           "diverging": [
            [
             0,
             "#8e0152"
            ],
            [
             0.1,
             "#c51b7d"
            ],
            [
             0.2,
             "#de77ae"
            ],
            [
             0.3,
             "#f1b6da"
            ],
            [
             0.4,
             "#fde0ef"
            ],
            [
             0.5,
             "#f7f7f7"
            ],
            [
             0.6,
             "#e6f5d0"
            ],
            [
             0.7,
             "#b8e186"
            ],
            [
             0.8,
             "#7fbc41"
            ],
            [
             0.9,
             "#4d9221"
            ],
            [
             1,
             "#276419"
            ]
           ],
           "sequential": [
            [
             0,
             "#0d0887"
            ],
            [
             0.1111111111111111,
             "#46039f"
            ],
            [
             0.2222222222222222,
             "#7201a8"
            ],
            [
             0.3333333333333333,
             "#9c179e"
            ],
            [
             0.4444444444444444,
             "#bd3786"
            ],
            [
             0.5555555555555556,
             "#d8576b"
            ],
            [
             0.6666666666666666,
             "#ed7953"
            ],
            [
             0.7777777777777778,
             "#fb9f3a"
            ],
            [
             0.8888888888888888,
             "#fdca26"
            ],
            [
             1,
             "#f0f921"
            ]
           ],
           "sequentialminus": [
            [
             0,
             "#0d0887"
            ],
            [
             0.1111111111111111,
             "#46039f"
            ],
            [
             0.2222222222222222,
             "#7201a8"
            ],
            [
             0.3333333333333333,
             "#9c179e"
            ],
            [
             0.4444444444444444,
             "#bd3786"
            ],
            [
             0.5555555555555556,
             "#d8576b"
            ],
            [
             0.6666666666666666,
             "#ed7953"
            ],
            [
             0.7777777777777778,
             "#fb9f3a"
            ],
            [
             0.8888888888888888,
             "#fdca26"
            ],
            [
             1,
             "#f0f921"
            ]
           ]
          },
          "colorway": [
           "#636efa",
           "#EF553B",
           "#00cc96",
           "#ab63fa",
           "#FFA15A",
           "#19d3f3",
           "#FF6692",
           "#B6E880",
           "#FF97FF",
           "#FECB52"
          ],
          "font": {
           "color": "#2a3f5f"
          },
          "geo": {
           "bgcolor": "white",
           "lakecolor": "white",
           "landcolor": "#E5ECF6",
           "showlakes": true,
           "showland": true,
           "subunitcolor": "white"
          },
          "hoverlabel": {
           "align": "left"
          },
          "hovermode": "closest",
          "mapbox": {
           "style": "light"
          },
          "paper_bgcolor": "white",
          "plot_bgcolor": "#E5ECF6",
          "polar": {
           "angularaxis": {
            "gridcolor": "white",
            "linecolor": "white",
            "ticks": ""
           },
           "bgcolor": "#E5ECF6",
           "radialaxis": {
            "gridcolor": "white",
            "linecolor": "white",
            "ticks": ""
           }
          },
          "scene": {
           "xaxis": {
            "backgroundcolor": "#E5ECF6",
            "gridcolor": "white",
            "gridwidth": 2,
            "linecolor": "white",
            "showbackground": true,
            "ticks": "",
            "zerolinecolor": "white"
           },
           "yaxis": {
            "backgroundcolor": "#E5ECF6",
            "gridcolor": "white",
            "gridwidth": 2,
            "linecolor": "white",
            "showbackground": true,
            "ticks": "",
            "zerolinecolor": "white"
           },
           "zaxis": {
            "backgroundcolor": "#E5ECF6",
            "gridcolor": "white",
            "gridwidth": 2,
            "linecolor": "white",
            "showbackground": true,
            "ticks": "",
            "zerolinecolor": "white"
           }
          },
          "shapedefaults": {
           "line": {
            "color": "#2a3f5f"
           }
          },
          "ternary": {
           "aaxis": {
            "gridcolor": "white",
            "linecolor": "white",
            "ticks": ""
           },
           "baxis": {
            "gridcolor": "white",
            "linecolor": "white",
            "ticks": ""
           },
           "bgcolor": "#E5ECF6",
           "caxis": {
            "gridcolor": "white",
            "linecolor": "white",
            "ticks": ""
           }
          },
          "title": {
           "x": 0.05
          },
          "xaxis": {
           "automargin": true,
           "gridcolor": "white",
           "linecolor": "white",
           "ticks": "",
           "title": {
            "standoff": 15
           },
           "zerolinecolor": "white",
           "zerolinewidth": 2
          },
          "yaxis": {
           "automargin": true,
           "gridcolor": "white",
           "linecolor": "white",
           "ticks": "",
           "title": {
            "standoff": 15
           },
           "zerolinecolor": "white",
           "zerolinewidth": 2
          }
         }
        },
        "width": 1300
       }
      }
     },
     "metadata": {},
     "output_type": "display_data"
    }
   ],
   "source": [
    "fig = px.scatter_mapbox(Total, lat=\"Lat\", lon=\"Long\")\n",
    "fig.add_trace(go.Scattermapbox(\n",
    "    lon = Total.iloc[:,5],\n",
    "    lat = Total.iloc[:,4],\n",
    "    marker = dict(size= 20, color = '#850f0f'),\n",
    "    name = \"Most Total CO2\"))\n",
    "\n",
    "fig.add_trace(go.Scattermapbox(\n",
    "    lon = PerCap.iloc[:,5],\n",
    "    lat = PerCap.iloc[:,4],\n",
    "    marker = dict(size= 10, color = '#ff4545'),\n",
    "    name = \"Most CO2 Per Capita\"))\n",
    "\n",
    "# fig.add_trace(go.Scattermapbox(\n",
    "#     lon = Lights.iloc[:,1],\n",
    "#     lat = Lights.iloc[:,0],\n",
    "#     marker = dict(size= 40, color = '#16350F'),\n",
    "#     name = \"Lights\"))\n",
    "\n",
    "\n",
    "\n",
    "fig.update_layout(mapbox_style=\"mapbox://styles/datasciencenot2/clmtaekbb02g901r4alyt6hw1\", mapbox_zoom=1.1, mapbox_center_lat = 30,mapbox_center_lon = 0,\n",
    "    margin={\"r\":0,\"t\":0,\"l\":0,\"b\":0},paper_bgcolor = '#0071B9',legend_font_color=\"#000000\")\n",
    "\n",
    "\n",
    "fig.show()"
   ]
  },
  {
   "cell_type": "code",
   "execution_count": 7,
   "metadata": {},
   "outputs": [],
   "source": [
    "#fig.write_html(\"atmosphereplot.html\")"
   ]
  }
 ],
 "metadata": {
  "kernelspec": {
   "display_name": "Python 3",
   "language": "python",
   "name": "python3"
  },
  "language_info": {
   "codemirror_mode": {
    "name": "ipython",
    "version": 3
   },
   "file_extension": ".py",
   "mimetype": "text/x-python",
   "name": "python",
   "nbconvert_exporter": "python",
   "pygments_lexer": "ipython3",
   "version": "3.9.5"
  }
 },
 "nbformat": 4,
 "nbformat_minor": 2
}
